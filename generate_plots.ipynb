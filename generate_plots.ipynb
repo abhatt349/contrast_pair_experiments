{
 "cells": [
  {
   "cell_type": "markdown",
   "metadata": {},
   "source": [
    "# Setup"
   ]
  },
  {
   "cell_type": "code",
   "execution_count": 2,
   "metadata": {},
   "outputs": [],
   "source": [
    "from analysis import results_over_n\n",
    "import matplotlib.pyplot as plt\n",
    "VERBOSE = False"
   ]
  },
  {
   "cell_type": "code",
   "execution_count": null,
   "metadata": {},
   "outputs": [],
   "source": [
    "# Run this once ahead of time, to generate all the results\n",
    "!sh ./scripts/prepare_all_outputs.sh"
   ]
  },
  {
   "cell_type": "markdown",
   "metadata": {},
   "source": [
    "# All graphs from post in order of appearance"
   ]
  },
  {
   "cell_type": "code",
   "execution_count": null,
   "metadata": {},
   "outputs": [],
   "source": [
    "x_axis, pos_syc, neg_syc, mix_syc = results_over_n('llama_chat_sycophancy', oneprompt=False, verbose=VERBOSE)\n",
    "\n",
    "plt.plot(x_axis, pos_syc, label=\"correct labels\", color=\"blue\", linestyle=\"solid\")\n",
    "plt.plot(x_axis, neg_syc, label=\"flipped labels\", color=\"orange\", linestyle=\"solid\")\n",
    "plt.plot(x_axis, mix_syc, label=\"random labels\", color=\"green\", linestyle=\"solid\")\n",
    "\n",
    "plt.title(\"Llama-2-7b-chat Few_shot Prompting\")\n",
    "plt.xlabel(\"number of examples in few-shot prompt\")\n",
    "plt.ylabel(\"Sycophancy\")\n",
    "plt.ylim(.8, .9)\n",
    "plt.legend()\n",
    "plt.show()"
   ]
  },
  {
   "cell_type": "code",
   "execution_count": null,
   "metadata": {},
   "outputs": [],
   "source": [
    "x_axis, pos_syc, neg_syc, mix_syc = results_over_n('llama_chat_sycophancy', oneprompt=False, verbose=VERBOSE)\n",
    "\n",
    "plt.plot(x_axis, pos_syc, label=\"few-shot\", color=\"blue\", linestyle=\"solid\")\n",
    "\n",
    "plt.title(\"Llama-2-7b-chat Few_shot Prompting\")\n",
    "plt.xlabel(\"number of examples in few-shot prompt\")\n",
    "plt.ylabel(\"Sycophancy\")\n",
    "plt.ylim(.8, .9)\n",
    "plt.legend()\n",
    "plt.show()"
   ]
  },
  {
   "cell_type": "code",
   "execution_count": null,
   "metadata": {},
   "outputs": [],
   "source": [
    "x_axis, pos_syc, neg_syc, mix_syc = results_over_n('llama_chat_sycophancy', oneprompt=False, verbose=VERBOSE)\n",
    "\n",
    "plt.plot(x_axis, pos_syc, label=\"correct labels\", color=\"blue\", linestyle=\"solid\")\n",
    "plt.plot(x_axis, neg_syc, label=\"flipped labels\", color=\"orange\", linestyle=\"solid\")\n",
    "plt.plot(x_axis, mix_syc, label=\"random labels\", color=\"green\", linestyle=\"solid\")\n",
    "\n",
    "plt.title(\"Llama-2-7b-chat Few_shot Prompting\")\n",
    "plt.xlabel(\"number of examples in few-shot prompt\")\n",
    "plt.ylabel(\"Sycophancy\")\n",
    "plt.ylim(.8, .9)\n",
    "plt.legend()\n",
    "plt.show()"
   ]
  },
  {
   "cell_type": "code",
   "execution_count": null,
   "metadata": {},
   "outputs": [],
   "source": [
    "x_axis, pos_syc, neg_syc, mix_syc = results_over_n('llama_chat_sycophancy', oneprompt=False, verbose=VERBOSE)\n",
    "x_axis_op, pos_syc_op, neg_syc_op, mix_syc_op = results_over_n('llama_chat_sycophancy', oneprompt=True, verbose=VERBOSE)\n",
    "\n",
    "plt.plot(x_axis, pos_syc, label=\"correct labels\", color=\"blue\", linestyle=\"solid\")\n",
    "plt.plot(x_axis, neg_syc, label=\"flipped labels\", color=\"orange\", linestyle=\"solid\")\n",
    "plt.plot(x_axis, mix_syc, label=\"random labels\", color=\"green\", linestyle=\"solid\")\n",
    "\n",
    "plt.plot(x_axis_op, pos_syc_op, label=\"correct labels (oneprompt)\", color=\"blue\", linestyle=\"dashed\")\n",
    "plt.plot(x_axis_op, neg_syc_op, label=\"flipped labels (oneprompt)\", color=\"orange\", linestyle=\"dashed\")\n",
    "plt.plot(x_axis_op, mix_syc_op, label=\"random labels (oneprompt)\", color=\"green\", linestyle=\"dashed\")\n",
    "\n",
    "plt.title(\"Llama-2-7b-chat Few_shot Prompting\")\n",
    "plt.xlabel(\"number of examples in few-shot prompt\")\n",
    "plt.ylabel(\"Sycophancy\")\n",
    "plt.ylim(.7, .9)\n",
    "plt.legend()\n",
    "plt.show()"
   ]
  },
  {
   "cell_type": "code",
   "execution_count": null,
   "metadata": {},
   "outputs": [],
   "source": [
    "x_axis, pos_syc, neg_syc, mix_syc = results_over_n('llama_chat_U+S', oneprompt=False, verbose=VERBOSE)\n",
    "x_axis_op, pos_syc_op, neg_syc_op, mix_syc_op = results_over_n('llama_chat_U+S', oneprompt=True, verbose=VERBOSE)\n",
    "\n",
    "plt.plot(x_axis, pos_syc, label=\"few-shot\", color=\"blue\", linestyle=\"solid\")\n",
    "plt.plot(x_axis, neg_syc, label=\"flipped\", color=\"orange\", linestyle=\"solid\")\n",
    "plt.plot(x_axis, mix_syc, label=\"random\", color=\"green\", linestyle=\"solid\")\n",
    "\n",
    "plt.plot(x_axis_op, pos_syc_op, label=\"few-shot (oneprompt)\", color=\"blue\", linestyle=\"dashed\")\n",
    "plt.plot(x_axis_op, neg_syc_op, label=\"flipped (oneprompt)\", color=\"orange\", linestyle=\"dashed\")\n",
    "plt.plot(x_axis_op, mix_syc_op, label=\"random (oneprompt)\", color=\"green\", linestyle=\"dashed\")\n",
    "\n",
    "plt.title(\"Llama-2-7b-chat on U+S\")\n",
    "plt.xlabel(\"number of examples in few-shot prompt\")\n",
    "plt.ylabel(\"Sycophancy\")\n",
    "plt.ylim(.65, .9)\n",
    "plt.legend()\n",
    "plt.show()"
   ]
  },
  {
   "cell_type": "code",
   "execution_count": null,
   "metadata": {},
   "outputs": [],
   "source": [
    "x_axis, pos_syc, neg_syc, mix_syc = results_over_n('mistral_chat_PU', oneprompt=False, verbose=VERBOSE)\n",
    "x_axis_op, pos_syc_op, neg_syc_op, mix_syc_op = results_over_n('mistral_chat_PU', oneprompt=True, verbose=VERBOSE)\n",
    "\n",
    "plt.plot(x_axis, pos_syc, label=\"few-shot\", color=\"blue\", linestyle=\"solid\")\n",
    "plt.plot(x_axis, neg_syc, label=\"flipped\", color=\"orange\", linestyle=\"solid\")\n",
    "plt.plot(x_axis, mix_syc, label=\"random\", color=\"green\", linestyle=\"solid\")\n",
    "\n",
    "plt.plot(x_axis_op, pos_syc_op, label=\"few-shot (oneprompt)\", color=\"blue\", linestyle=\"dashed\")\n",
    "plt.plot(x_axis_op, neg_syc_op, label=\"flipped (oneprompt)\", color=\"orange\", linestyle=\"dashed\")\n",
    "plt.plot(x_axis_op, mix_syc_op, label=\"random (oneprompt)\", color=\"green\", linestyle=\"dashed\")\n",
    "\n",
    "plt.rcParams.update({'font.size': 16})\n",
    "plt.title(\"Mistral-7b-Instruct-v0.1 on PU\")\n",
    "plt.xlabel(\"number of examples in few-shot prompt\")\n",
    "plt.ylabel(\"Uppercase Accuracy\")\n",
    "plt.ylim(.48, .52)\n",
    "plt.legend()\n",
    "plt.show()"
   ]
  },
  {
   "cell_type": "code",
   "execution_count": null,
   "metadata": {},
   "outputs": [],
   "source": [
    "x_axis, pos_syc, neg_syc, mix_syc = results_over_n('mistral_PU', oneprompt=False, verbose=VERBOSE)\n",
    "\n",
    "plt.plot(x_axis_op, pos_syc_op, label=\"few-shot (oneprompt)\", color=\"blue\", linestyle=\"dashed\")\n",
    "plt.plot(x_axis_op, neg_syc_op, label=\"flipped (oneprompt)\", color=\"orange\", linestyle=\"dashed\")\n",
    "plt.plot(x_axis_op, mix_syc_op, label=\"random (oneprompt)\", color=\"green\", linestyle=\"dashed\")\n",
    "\n",
    "plt.rcParams.update({'font.size': 16})\n",
    "plt.title(\"Mistral-7b-v0.1 on PU\")\n",
    "plt.xlabel(\"number of examples in few-shot prompt\")\n",
    "plt.ylabel(\"Uppercase Accuracy\")\n",
    "plt.ylim(.48, .52)\n",
    "plt.legend()\n",
    "plt.show()"
   ]
  }
 ],
 "metadata": {
  "kernelspec": {
   "display_name": "venv",
   "language": "python",
   "name": "python3"
  },
  "language_info": {
   "codemirror_mode": {
    "name": "ipython",
    "version": 3
   },
   "file_extension": ".py",
   "mimetype": "text/x-python",
   "name": "python",
   "nbconvert_exporter": "python",
   "pygments_lexer": "ipython3",
   "version": "3.10.12"
  }
 },
 "nbformat": 4,
 "nbformat_minor": 2
}
